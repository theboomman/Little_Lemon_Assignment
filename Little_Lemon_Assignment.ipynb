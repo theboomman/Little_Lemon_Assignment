{
 "cells": [
  {
   "cell_type": "markdown",
   "source": [
    "# Final Assignment"
   ],
   "metadata": {}
  },
  {
   "cell_type": "markdown",
   "source": [
    "# Excercise 1: Implement and query stored procedure:\n",
    "## Step 1:\n",
    "\n",
    "Establish a connection \n",
    "\n",
    "Import MySQLConnectionPool.\n",
    "\n",
    "Import Error.\n",
    "\n",
    "Create a pool named pool_a with two connections. You need to use the try-except block to handle any possible errors. \n",
    "\n"
   ],
   "metadata": {}
  },
  {
   "cell_type": "code",
   "execution_count": 1,
   "source": [
    "import mysql.connector as connector"
   ],
   "outputs": [],
   "metadata": {}
  },
  {
   "cell_type": "code",
   "execution_count": 2,
   "source": [
    "# Establish connection between Python and MySQL database via MySQL Connector/Python API\n",
    "connection=connector.connect(\n",
    "                             user=\"root\",\n",
    "                             password=\"\",\n",
    "                            )"
   ],
   "outputs": [],
   "metadata": {}
  },
  {
   "cell_type": "code",
   "execution_count": 3,
   "source": [
    "# Create cursor object to communicate with entire MySQL database\n",
    "cursor = connection.cursor()"
   ],
   "outputs": [],
   "metadata": {}
  },
  {
   "cell_type": "markdown",
   "source": [
    "Once the connection is established and you have a cursor object, you can select the database `little_lemon` using the code below and work with the respective table to complete the required tasks.  "
   ],
   "metadata": {}
  },
  {
   "cell_type": "code",
   "execution_count": 4,
   "source": [
    "# Set the little_lemon database for use \n",
    "cursor.execute(\"use little_lemon_db\")\n",
    "\n",
    "# Confirm the datbase in use\n",
    "connection.database"
   ],
   "outputs": [
    {
     "output_type": "execute_result",
     "data": {
      "text/plain": [
       "'little_lemon_db'"
      ]
     },
     "metadata": {},
     "execution_count": 4
    }
   ],
   "metadata": {}
  },
  {
   "cell_type": "code",
   "execution_count": 5,
   "source": [
    "from mysql.connector.pooling import MySQLConnectionPool\n",
    "from mysql.connector import Error\n",
    "\n",
    "dbconfig = {\n",
    "    \"database\":\"little_lemon_db\", \n",
    "    \"user\":\"root\", \n",
    "    \"password\":\"\"\n",
    "}\n",
    "\n",
    "try:\n",
    "    pool = MySQLConnectionPool(pool_name = \"pool_a\",pool_size = 2,**dbconfig)\n",
    "    print(\"The connection pool is created with the pool name: \", pool.pool_name)\n",
    "    print(\"The pool size: \", pool.pool_size)\n",
    "\n",
    "except Error as er:\n",
    "    print(\"Error code: \", er.errno)\n",
    "    print(\"Error message:\", er.msg)"
   ],
   "outputs": [
    {
     "output_type": "stream",
     "name": "stdout",
     "text": [
      "The connection pool is created with the pool name:  pool_a\n",
      "The pool size:  2\n"
     ]
    }
   ],
   "metadata": {}
  },
  {
   "cell_type": "markdown",
   "source": [
    "Get a connection from the pool and create the cursor object:"
   ],
   "metadata": {}
  },
  {
   "cell_type": "code",
   "execution_count": 6,
   "source": [
    "print(\"Get the coonection from the pool.\")\n",
    "connection1 = pool.get_connection()\n",
    "print(\"'connection1' object is created with a connection from the pool\")\n",
    "\n",
    "cursor = connection1.cursor()"
   ],
   "outputs": [
    {
     "output_type": "stream",
     "name": "stdout",
     "text": [
      "Get the coonection from the pool.\n",
      "'connection1' object is created with a connection from the pool\n"
     ]
    }
   ],
   "metadata": {}
  },
  {
   "cell_type": "markdown",
   "source": [
    "## Step 2:\n",
    "\n",
    "Implement a stored procedure called PeakHours.\n",
    "\n",
    "Write a SQL CREATE PROCEDURE query for PeakHours:\n",
    "\n",
    "Use HOUR to extract the hour data from the BookingSlot.\n",
    "\n",
    "Use COUNT on the hour part of the BookingSlot data to count the number of bookings. \n",
    "\n",
    "Use GROUP BY on the booking hour.\n",
    "\n",
    "Use ORDER BY to retrieve the number of bookings in descending order.\n",
    "\n",
    "Run the stored procedure query by invoking the execute module on the cursor.\n",
    "\n",
    "Invoke callproc to call the stored procedure.\n",
    "\n",
    "Fetch the results in a variable called dataset.\n",
    "\n",
    "Extract the names of the columns.\n",
    "\n",
    "Print the names of the columns.\n",
    "\n",
    "Print the sorted data using a for loop."
   ],
   "metadata": {}
  },
  {
   "cell_type": "code",
   "execution_count": 7,
   "source": [
    "connection = pool.get_connection()\n",
    "cursor = connection.cursor()\n",
    "\n",
    "cursor.execute(\"DROP PROCEDURE IF EXISTS PeakHours;\")\n",
    "\n",
    "stored_procedure_query = \"\"\"\n",
    "CREATE PROCEDURE PeakHours()\n",
    "BEGIN\n",
    "\n",
    "SELECT\n",
    "HOUR(BookingSlot) AS Booking_Hour,\n",
    "COUNT(HOUR(BookingSlot)) AS n_Booking\n",
    "FROM Bookings\n",
    "GROUP BY Booking_Hour\n",
    "ORDER BY n_Booking DESC;\n",
    "\n",
    "END\n",
    "\"\"\"\n",
    "#Execute the query.\n",
    "cursor.execute(stored_procedure_query)\n",
    "#Call The procedure\n",
    "cursor.callproc(\"PeakHours\")\n",
    "\n",
    "#Retrieve the record in dataset\n",
    "results = next(cursor.stored_results())\n",
    "dataset = results.fetchall()\n",
    "\n",
    "# Retrieve column names using list comprehension in a for loop \n",
    "for column_id in cursor.stored_results():\n",
    "    columns = [column[0] for column in column_id.description]\n",
    "\n",
    "#Print the column names list\n",
    "print(columns)\n",
    "\n",
    "#Print dataset\n",
    "\n",
    "for data in dataset:\n",
    "    print(data)"
   ],
   "outputs": [
    {
     "output_type": "stream",
     "name": "stdout",
     "text": [
      "['Booking_Hour', 'n_Booking']\n",
      "(19, 2)\n",
      "(15, 1)\n",
      "(17, 1)\n",
      "(18, 1)\n",
      "(20, 1)\n"
     ]
    }
   ],
   "metadata": {}
  },
  {
   "cell_type": "markdown",
   "source": [
    "## Step 3:\n",
    "\n",
    "Implement a stored procedure called GuestStatus.\n",
    "\n",
    "Write a SQL CREATE PROCEDURE query for GuestStatus.\n",
    "\n",
    "Combine the first and last name of each guest from the booking column using a CONCAT function.\n",
    "\n",
    "Use the CASE function to implement the following order statuses for each guest:\n",
    "\n",
    "If the Role in the Employee table is Manager or Assistant Manager then the status is Ready to pay.\n",
    "\n",
    "If the Role in the Employee table is Head Chef then the status is Ready to serve.\n",
    "\n",
    "If the Role in the Employee table is Assistant Chef then the status is Preparing order.\n",
    "\n",
    "If the Role in the Employee table is Head Waiter then the status is Order served.\n",
    "\n",
    "Perform a LEFT JOIN on the Bookings table with the Employees table ON EmployeeID.\n",
    "\n",
    "Run the stored procedure query by invoking the execute module on the cursor object.\n",
    "\n",
    "Invoke callproc to call the stored procedure.\n",
    "\n",
    "Fetch the results in a variable called dataset.\n",
    "\n",
    "Extract the names of the columns.\n",
    "\n",
    "Print the names of the columns.\n",
    "\n",
    "Print the sorted data using a for loop.\n",
    "\n",
    "Close the connection to return it to the pool."
   ],
   "metadata": {}
  },
  {
   "cell_type": "code",
   "execution_count": 8,
   "source": [
    "cursor.execute(\"DROP PROCEDURE IF EXISTS GuestStatus;\")\n",
    "\n",
    "stored_procedure_query = \"\"\"\n",
    "CREATE PROCEDURE GuestStatus()\n",
    "BEGIN\n",
    "\n",
    "SELECT\n",
    "Bookings.BookingID AS OrderNumber,\n",
    "CONCAT(GuestFirstName, '', GuestLastName) AS GuestFullName,\n",
    "\n",
    "Role AS Employee,\n",
    "\n",
    "CASE\n",
    "WHEN Role IN ('Manager', 'Assistant Manager') THEN \"Ready to pay\"\n",
    "WHEN Role = 'Head Chef' THEN \"Ready to serve\"\n",
    "WHEN Role = 'Assistant Chef' THEN \"Preparing order\"\n",
    "WHEN Role = 'Head Waiter' THEN \"Order served\"\n",
    "ELSE \"Pending\"\n",
    "END AS Status\n",
    "FROM Bookings\n",
    "LEFT JOIN Employees\n",
    "ON Employees.EmployeeID = Bookings.EmployeeID;\n",
    "\n",
    "END\n",
    "\"\"\"\n",
    "#Execute the query.\n",
    "cursor.execute(stored_procedure_query)\n",
    "#Call The procedure\n",
    "cursor.callproc(\"GuestStatus\")\n",
    "\n",
    "#Retrieve the record in dataset\n",
    "results = next(cursor.stored_results())\n",
    "dataset = results.fetchall()\n",
    "\n",
    "# Retrieve column names using list comprehension in a for loop \n",
    "for column_id in cursor.stored_results():\n",
    "    columns = [column[0] for column in column_id.description]\n",
    "\n",
    "#Print the column names list\n",
    "print(columns)\n",
    "\n",
    "#Print data\n",
    "for data in dataset:\n",
    "    print(data)"
   ],
   "outputs": [
    {
     "output_type": "stream",
     "name": "stdout",
     "text": [
      "['OrderNumber', 'GuestFullName', 'Employee', 'Status']\n",
      "(1, 'AnnaIversen', 'Manager', 'Ready to pay')\n",
      "(2, 'JoakimIversen', 'Manager', 'Ready to pay')\n",
      "(3, 'VanessaMcCarthy', 'Head Chef', 'Ready to serve')\n",
      "(4, 'MarcosRomero', 'Assistant Chef', 'Preparing order')\n",
      "(5, 'HirokiYamane', 'Assistant Manager', 'Ready to pay')\n",
      "(6, 'DianaPinto', 'Head Waiter', 'Order served')\n"
     ]
    }
   ],
   "metadata": {}
  }
 ],
 "metadata": {
  "kernelspec": {
   "name": "python3",
   "display_name": "Python 3.8.10 64-bit"
  },
  "language_info": {
   "codemirror_mode": {
    "name": "ipython",
    "version": 3
   },
   "file_extension": ".py",
   "mimetype": "text/x-python",
   "name": "python",
   "nbconvert_exporter": "python",
   "pygments_lexer": "ipython3",
   "version": "3.8.10"
  },
  "interpreter": {
   "hash": "31f2aee4e71d21fbe5cf8b01ff0e069b9275f58929596ceb00d14d90e3e16cd6"
  }
 },
 "nbformat": 4,
 "nbformat_minor": 4
}