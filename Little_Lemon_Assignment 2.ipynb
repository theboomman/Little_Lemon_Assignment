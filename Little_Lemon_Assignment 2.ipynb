{
 "cells": [
  {
   "cell_type": "code",
   "execution_count": 1,
   "source": [
    "import mysql.connector as connector"
   ],
   "outputs": [],
   "metadata": {}
  },
  {
   "cell_type": "code",
   "execution_count": 2,
   "source": [
    "# Establish connection between Python and MySQL database via MySQL Connector/Python API\n",
    "connection=connector.connect(\n",
    "                             user=\"root\",\n",
    "                             password=\"\",\n",
    "                            )"
   ],
   "outputs": [],
   "metadata": {}
  },
  {
   "cell_type": "code",
   "execution_count": 3,
   "source": [
    "# Create cursor object to communicate with entire MySQL database\n",
    "cursor = connection.cursor()"
   ],
   "outputs": [],
   "metadata": {}
  },
  {
   "cell_type": "markdown",
   "source": [
    "Once the connection is established and you have a cursor object, you can select the database `little_lemon` using the code below and work with the respective table to complete the required tasks.  "
   ],
   "metadata": {}
  },
  {
   "cell_type": "code",
   "execution_count": 4,
   "source": [
    "# Set the little_lemon database for use \n",
    "cursor.execute(\"use little_lemon_db\")\n",
    "\n",
    "# Confirm the datbase in use\n",
    "connection.database"
   ],
   "outputs": [
    {
     "output_type": "execute_result",
     "data": {
      "text/plain": [
       "'little_lemon_db'"
      ]
     },
     "metadata": {},
     "execution_count": 4
    }
   ],
   "metadata": {}
  },
  {
   "cell_type": "markdown",
   "source": [
    "# Exercise 2: Little Lemon analysis and sales report\n",
    "## Task 1:\n",
    "\n",
    "Complete the following steps to establish a connection pool:\n",
    "\n",
    "To create a connection pool, import the MySQLConnectionPool class from MySQL Connector/Python.\n",
    "\n",
    "To find the information on the error, import the Error class from MySQL Connector/Python.\n",
    "\n",
    "Define your database configurations as a Python dictionary object called dbconfig.\n",
    "\n",
    "Establish a connection pool [pool_name = “pool_b”] with two connections. \n",
    "\n",
    "Implement error handling using a try-except block in case the connection fails. "
   ],
   "metadata": {}
  },
  {
   "cell_type": "code",
   "execution_count": 10,
   "source": [
    "# Import MySQLConnectionPool class\n",
    "from mysql.connector.pooling import MySQLConnectionPool\n",
    "\n",
    "# Import Error class\n",
    "from mysql.connector import Error\n",
    "\n",
    "# Define database configurations\n",
    "dbconfig = {\n",
    "    \"database\":\"little_lemon_db\",\n",
    "    \"user\" : \"root\",\n",
    "    \"password\" : \"\"\n",
    "}\n",
    "\n",
    "# Create a pool named \"pool_b\" with two connections.\n",
    "# try-except block\n",
    "try:\n",
    "    pool = MySQLConnectionPool(pool_name = \"pool_b\",pool_size = 2,**dbconfig)\n",
    "    print(\"The connection pool is created with the name: \",pool.pool_name)\n",
    "    print(\"The pool size is:\",pool.pool_size)\n",
    "\n",
    "except Error as er:\n",
    "    print(\"Error code:\", er.errno)\n",
    "    print(\"Error message:\", er.msg)\n"
   ],
   "outputs": [
    {
     "output_type": "stream",
     "name": "stdout",
     "text": [
      "The connection pool is created with the name:  pool_b\n",
      "The pool size is: 2\n"
     ]
    }
   ],
   "metadata": {}
  },
  {
   "cell_type": "markdown",
   "source": [
    "## Task 2:\n",
    "\n",
    "Three guests are trying to book dinner slots simultaneously. Get their connections from pool_b and insert the following data in the Bookings table. (TIP: You need to add a connection to connect the third guest.)\n",
    "\n",
    "\n",
    "Guest 1:\n",
    "\n",
    "Table Number: 8\n",
    "\n",
    "First Name: Anees\n",
    "\n",
    "Last Name: Java\n",
    "\n",
    "Booking Time: 18:00\n",
    "\n",
    "EmployeeID: 6\n",
    "\n",
    "\n",
    "Guest 2:\n",
    "\n",
    "Table Number: 5\n",
    "\n",
    "First Name: Bald\n",
    "\n",
    "Last Name: Vin\n",
    "\n",
    "Booking Time: 19:00\n",
    "\n",
    "EmployeeID: 6\n",
    "\n",
    "\n",
    "Guest 3:\n",
    "\n",
    "Table Number: 12\n",
    "\n",
    "First Name: Jay\n",
    "\n",
    "Last Name: Kon\n",
    "\n",
    "Booking Time: 19:30 \n",
    "\n",
    "EmployeeID: 6\n",
    "\n",
    "\n",
    "Return all the connections back to the pool. (TIP: The pool size is 2. However, you have three connected users. You can only return two connections. Returning a third connection raises a PoolError. Use try-except to print the error message)  "
   ],
   "metadata": {}
  },
  {
   "cell_type": "code",
   "execution_count": null,
   "source": [
    "#Connect the first guest\n",
    "connection1 = pool.get_connection()\n",
    "cursor1 = connection1.cursor()\n",
    "booking1 = \"\"\"\n",
    "INSERT INTO Bookings\n",
    "(TableNo, GuestFirstName, GuestLastName, BookingSlot, EmployeeID)\n",
    "VALUES\n",
    "(8, 'Anes', 'Java', '18:00:00', 6)\n",
    "\"\"\"\n",
    "cursor1.execute(booking1)\n",
    "connection1.commit()\n",
    "print(\"A new booking booking has been added into the 'booking' table.\")\n",
    "\n",
    "#Connect the second guest\n",
    "connection2 = pool.get_connection()\n",
    "cursor2 = connection2.cursor()\n",
    "booking2 = \"\"\"\n",
    "INSERT INTO Bookings\n",
    "(TableNo, GuestFirstName, GuestLastName, BookingSlot, EmployeeID)\n",
    "VALUES\n",
    "(5, 'Bald', 'Vin', '19:00:00', 6)\n",
    "\"\"\"\n",
    "cursor2.execute(booking2)\n",
    "connection2.commit()\n",
    "print(\"A new booking booking has been added into the 'booking' table.\")\n",
    "\n",
    "# Adding a new connection to connect the third user.\n",
    "try:\n",
    "    connection3 = pool.get_connection()\n",
    "    print(\"The guest is connected\")\n",
    "except:\n",
    "    print(\"Adding new connection in the pool.\")\n",
    "        \n",
    "    # Create a connection\n",
    "    connection = connector.connect(user=\"meta\",password=\"password\")\n",
    "    # Add the connection into the pool\n",
    "    pool.add_connection(cnx=connection)\n",
    "    print(\"A new connection is added in the pool.\\n\")\n",
    "        \n",
    "    connection3 = pool.get_connection()\n",
    "    print(\"'connection3' has been added into the pool.\")\n",
    "    \n",
    "# Connect the third guest \n",
    "cursor3 = connection3.cursor()\n",
    "booking3 = \"\"\"INSERT INTO Bookings \n",
    "(TableNo, GuestFirstName, GuestLastName, BookingSlot, EmployeeID)\n",
    "VALUES\n",
    "(12, 'Jay','Kon','19:30:00',6);\"\"\"\n",
    "cursor3.execute(booking3)\n",
    "connection3.commit()\n",
    "print(\"A new booking booking has been added into the 'booking' table.\")\n",
    "\n",
    "# You can only return two connections back to the pool as the pool_size=2.\n",
    "#  Close all  connections and use try-except to print the pool error if the pool is already full.\n",
    "\n",
    "from mysql.connector import Error\n",
    "for connection in [connection1,connection2, connection3]:\n",
    "    try:\n",
    "        connection.close()\n",
    "        print(\"Connection is returned to the pool\")\n",
    "    except Error as er:\n",
    "        print(\"\\nConnection can't be returned to the pool\")\n",
    "        print(\"Error message:\", er.msg)"
   ],
   "outputs": [],
   "metadata": {}
  },
  {
   "cell_type": "markdown",
   "source": [
    "## Task 3:\n",
    "\n",
    "Create a report containing the following information:\n",
    "\n",
    "The name and EmployeeID of the Little Lemon manager.\n",
    "\n",
    "The name and role of the employee who receives the highest salary.\n",
    "\n",
    "The number of guests booked between 18:00 and 20:00.\n",
    "\n",
    "The full name and the BookingId of each guest waiting to be seated with the receptionist in sorted order with respect to their BookingSlot."
   ],
   "metadata": {}
  },
  {
   "cell_type": "code",
   "execution_count": 22,
   "source": [
    "# Get a connection from pool_a and create a cursor object to communicate with the database. \n",
    "print(\"Getting a connection from the pool.\")\n",
    "connection = pool.get_connection()\n",
    "\n",
    "print(\"\"\"Creating a cursor object to communicate with the database.\"\"\")\n",
    "cursor = connection.cursor()\n",
    "print(\"\"\"The cursor object \"cursor\" is created.\"\"\")\n",
    "#The name and EmployeeID of the Little Lemon manager.\n",
    "cursor.execute(\"\"\"SELECT \n",
    "Name, EmployeeID \n",
    "FROM Employees \n",
    "WHERE Role = 'Manager'\"\"\")\n",
    "results=cursor.fetchall()\n",
    "columns=cursor.column_names\n",
    "print(columns)\n",
    "for result in results:\n",
    "    print(result)\n",
    "\n",
    "#The name and role of the employee who receives the highest salary.\n",
    "cursor.execute(\"\"\"SELECT \n",
    "Name, Role \n",
    "FROM Employees \n",
    "ORDER BY Annual_Salary DESC\n",
    "LIMIT 1;\"\"\")\n",
    "results=cursor.fetchall()\n",
    "columns=cursor.column_names\n",
    "print(columns)\n",
    "for result in results:\n",
    "    print(result)\n",
    "\n",
    "#The number of guests booked between 18:00 and 20:00\n",
    "cursor.execute(\"\"\"SELECT \n",
    "COUNT(BookingID) AS n_Booking_18_20\n",
    "FROM Bookings \n",
    "WHERE BookingSlot BETWEEN '18:00:00' AND '20:00:00' ;\"\"\")\n",
    "results=cursor.fetchall()\n",
    "columns=cursor.column_names\n",
    "print(columns)\n",
    "for result in results:\n",
    "    print(result)\n",
    "\n",
    "#The full name and the BookingId of each guest waiting to be seated with the receptionist in sorted order with respect to their BookingSlot.\n",
    "cursor.execute(\"\"\"SELECT \n",
    "Bookings.BookingID AS n_Booking,\n",
    "CONCAT(GuestFirstName, ' ', GuestLastName) AS GuestName,\n",
    "Role AS Employee\n",
    "FROM Bookings \n",
    "LEFT JOIN Employees\n",
    "ON Employees.EmployeeID=Bookings.EmployeeID\n",
    "WHERE Role = 'Receptionist'\n",
    "ORDER BY BookingSlot DESC ;\"\"\")\n",
    "print(\"The following guests are waiting to be seated:\")\n",
    "results=cursor.fetchall()\n",
    "columns=cursor.column_names\n",
    "print(columns)\n",
    "for result in results:\n",
    "    print(result)\n"
   ],
   "outputs": [
    {
     "output_type": "stream",
     "name": "stdout",
     "text": [
      "Getting a connection from the pool.\n",
      "Creating a cursor object to communicate with the database.\n",
      "The cursor object \"cursor\" is created.\n",
      "('Name', 'EmployeeID')\n",
      "('Mario Gollini', 1)\n",
      "('Name', 'Role')\n",
      "('Mario Gollini', 'Manager')\n",
      "('n_Booking_18_20',)\n",
      "(8,)\n",
      "The following guests are waiting to be seated:\n",
      "('n_Booking', 'GuestName', 'Employee')\n",
      "(8, 'Bald Vin', 'Receptionist')\n",
      "(10, 'Bald Vin', 'Receptionist')\n",
      "(7, 'Anes Java', 'Receptionist')\n",
      "(9, 'Anes Java', 'Receptionist')\n"
     ]
    }
   ],
   "metadata": {}
  },
  {
   "cell_type": "markdown",
   "source": [
    "## Task 4:\n",
    "\n",
    "Create a stored procedure called BasicSalesReport that returns the following statistics. \n",
    "\n",
    "Total sales\n",
    "\n",
    "Average sale\n",
    "\n",
    "Minimum bill paid\n",
    "\n",
    "Maximum bill paid"
   ],
   "metadata": {}
  },
  {
   "cell_type": "code",
   "execution_count": 8,
   "source": [
    "# Create a stored procedure named BasicSalesReport.\n",
    "cursor.execute(\"\"\"DROP PROCEDURE IF EXISTS BasicSalesReport;\"\"\")\n",
    "\n",
    "stored_procedure_query = \"\"\" CREATE PROCEDURE BasicSalesReport()\n",
    "BEGIN\n",
    "\n",
    "SELECT\n",
    "SUM(BillAmount) AS TotalSales,\n",
    "AVG(BillAmount) AS AverageSales,\n",
    "MIN(BillAmount) AS MinimumBillPaid,\n",
    "MAX(BillAmount) AS MAXimumBillPaid\n",
    "FROM Orders;\n",
    "\n",
    "END\n",
    "\"\"\"\n",
    "\n",
    "#Execute the query.\n",
    "cursor.execute(stored_procedure_query)\n",
    "#Call The procedure\n",
    "cursor.callproc(\"BasicSalesReport\")\n",
    "\n",
    "#Retrieve the record in dataset\n",
    "results = next(cursor.stored_results())\n",
    "results = results.fetchall()\n",
    "\n",
    "# Retrieve column names using list comprehension in a for loop \n",
    "for column_id in cursor.stored_results():\n",
    "    columns = [column[0] for column in column_id.description]\n",
    "\n",
    "\n",
    "#Print report\n",
    "print(\"Today's report\")\n",
    "for result in results:\n",
    "    print(columns[0], \":\", result[0])\n",
    "    print(columns[1], \":\", result[1])\n",
    "    print(columns[2], \":\", result[2])\n",
    "    print(columns[3], \":\", result[3])"
   ],
   "outputs": [
    {
     "output_type": "stream",
     "name": "stdout",
     "text": [
      "Today's report\n",
      "TotalSales : 243\n",
      "AverageSales : 48.6000\n",
      "MinimumBillPaid : 37\n",
      "MAXimumBillPaid : 86\n"
     ]
    }
   ],
   "metadata": {}
  },
  {
   "cell_type": "markdown",
   "source": [
    "## Task 5:       \n",
    "\n",
    "Little Lemon needs to display the next three upcoming bookings from the Bookings table on the kitchen screen to notify their chefs that the orders are due. \n",
    "\n",
    "Get a connection from the pool.\n",
    "\n",
    "Create a buffered cursor.\n",
    "\n",
    "Combine the data from the Bookings and the Employee tables, sort the retrieved records in ascending order, and display the information of the first three guests. \n",
    "\n",
    "Return the connection back to the pool.\n",
    "\n",
    "The output should be as follows:\n",
    "\n",
    "[BookingSlot]\n",
    "\n",
    "[Guest_name]\n",
    "\n",
    "[Assigned to: Employee Name [Employee Role]]"
   ],
   "metadata": {}
  },
  {
   "cell_type": "code",
   "execution_count": 12,
   "source": [
    "connection = pool.get_connection()\n",
    "cursor = connection.cursor(buffered= True)\n",
    "\n",
    "query = \"\"\"\n",
    "SELECT\n",
    "Bookings.BookingSlot,\n",
    "CONCAT(GuestFirstName, ' ', GuestLastName) AS GuestName,\n",
    "Employees.Name AS EmployeeName,\n",
    "Employees.Role AS EmployeeRole\n",
    "FROM Bookings\n",
    "INNER JOIN Employees\n",
    "ON Bookings.EmployeeID = Employees.EmployeeID\n",
    "ORDER BY Bookings.BookingSlot ASC;\n",
    "\"\"\"\n",
    "cursor.execute(query)\n",
    "results = cursor.fetchmany(size=3)\n",
    "\n",
    "for column_id in cursor.stored_results():\n",
    "    columns = [column[0] for column in column_id.description]\n",
    "\n",
    "print(\"Today's report\")\n",
    "for result in results:\n",
    "    print( \"BookingSlot:\", result[0])\n",
    "    print( \"GuestName:\", result[1])\n",
    "    print( \"Assigned to:\", result[2], \"[{}]\".format(result[3]))\n",
    "\n",
    "connection.close()"
   ],
   "outputs": [
    {
     "output_type": "stream",
     "name": "stdout",
     "text": [
      "Today's report\n",
      "BookingSlot: 15:00:00\n",
      "GuestName: Vanessa McCarthy\n",
      "Assigned to: Giorgos Dioudis [Head Chef]\n",
      "BookingSlot: 17:30:00\n",
      "GuestName: Marcos Romero\n",
      "Assigned to: Fatma Kaya [Assistant Chef]\n",
      "BookingSlot: 18:30:00\n",
      "GuestName: Hiroki Yamane\n",
      "Assigned to: Adrian Gollini [Assistant Manager]\n"
     ]
    }
   ],
   "metadata": {}
  }
 ],
 "metadata": {
  "kernelspec": {
   "name": "python3",
   "display_name": "Python 3.8.10 64-bit"
  },
  "language_info": {
   "codemirror_mode": {
    "name": "ipython",
    "version": 3
   },
   "file_extension": ".py",
   "mimetype": "text/x-python",
   "name": "python",
   "nbconvert_exporter": "python",
   "pygments_lexer": "ipython3",
   "version": "3.8.10"
  },
  "interpreter": {
   "hash": "31f2aee4e71d21fbe5cf8b01ff0e069b9275f58929596ceb00d14d90e3e16cd6"
  }
 },
 "nbformat": 4,
 "nbformat_minor": 4
}